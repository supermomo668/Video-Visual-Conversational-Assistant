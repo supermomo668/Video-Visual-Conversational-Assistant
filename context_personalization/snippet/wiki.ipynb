{
 "cells": [
  {
   "cell_type": "code",
   "execution_count": null,
   "metadata": {},
   "outputs": [],
   "source": [
    "%%bash\n",
    "pip install llama_index\n",
    "pip install langchain\n",
    "pip install wikipedia"
   ]
  },
  {
   "cell_type": "code",
   "execution_count": 4,
   "metadata": {},
   "outputs": [],
   "source": [
    "import os\n",
    "import openai\n",
    "with open('../.openai','r') as f:\n",
    "  os.environ['OPENAI_API_KEY'] = f.read()\n",
    "openai.api_key = os.environ.get('OPENAI_API_KEY')"
   ]
  },
  {
   "cell_type": "code",
   "execution_count": 5,
   "metadata": {},
   "outputs": [],
   "source": [
    "from llama_index.tools.ondemand_loader_tool import OnDemandLoaderTool\n",
    "from llama_index.readers.wikipedia import WikipediaReader\n",
    "from typing import List\n",
    "\n",
    "from pydantic import BaseModel"
   ]
  },
  {
   "cell_type": "code",
   "execution_count": 6,
   "metadata": {},
   "outputs": [
    {
     "name": "stderr",
     "output_type": "stream",
     "text": [
      "[nltk_data] Downloading package punkt to /tmp/llama_index...\n",
      "[nltk_data]   Unzipping tokenizers/punkt.zip.\n"
     ]
    },
    {
     "name": "stdout",
     "output_type": "stream",
     "text": [
      "\u001b[32;1m\u001b[1;3mBerlin has a thriving arts and culture scene. The city is home to numerous theaters and stages, including the Deutsches Theater, Volksbühne, Berliner Ensemble, and Schaubühne. There are also three major opera houses: the Deutsche Oper, Berlin State Opera, and Komische Oper. For dance and theater, venues like the Sophiensäle and Hebbel am Ufer are important. Berlin hosts several festivals, including the Berlin International Film Festival, Karneval der Kulturen, Berliner Festspiele, and the Berlin Festival. The city is also known for its symphony orchestras, such as the Berlin Philharmonic Orchestra. In terms of nightlife and festivals, Berlin has a diverse and vibrant club scene, as well as a long history of gay culture. Overall, Berlin offers a rich and diverse arts and culture scene for residents and visitors alike.\u001b[0m"
     ]
    },
    {
     "data": {
      "text/plain": [
       "ToolOutput(content='Berlin has a thriving arts and culture scene. The city is home to numerous theaters and stages, including the Deutsches Theater, Volksbühne, Berliner Ensemble, and Schaubühne. There are also three major opera houses: the Deutsche Oper, Berlin State Opera, and Komische Oper. For dance and theater, venues like the Sophiensäle and Hebbel am Ufer are important. Berlin hosts several festivals, including the Berlin International Film Festival, Karneval der Kulturen, Berliner Festspiele, and the Berlin Festival. The city is also known for its symphony orchestras, such as the Berlin Philharmonic Orchestra. In terms of nightlife and festivals, Berlin has a diverse and vibrant club scene, as well as a long history of gay culture. Overall, Berlin offers a rich and diverse arts and culture scene for residents and visitors alike.', tool_name='Wikipedia Tool', raw_input={'query': \"What's the arts and culture scene in Berlin?\"}, raw_output=Response(response='Berlin has a thriving arts and culture scene. The city is home to numerous theaters and stages, including the Deutsches Theater, Volksbühne, Berliner Ensemble, and Schaubühne. There are also three major opera houses: the Deutsche Oper, Berlin State Opera, and Komische Oper. For dance and theater, venues like the Sophiensäle and Hebbel am Ufer are important. Berlin hosts several festivals, including the Berlin International Film Festival, Karneval der Kulturen, Berliner Festspiele, and the Berlin Festival. The city is also known for its symphony orchestras, such as the Berlin Philharmonic Orchestra. In terms of nightlife and festivals, Berlin has a diverse and vibrant club scene, as well as a long history of gay culture. Overall, Berlin offers a rich and diverse arts and culture scene for residents and visitors alike.', source_nodes=[NodeWithScore(node=TextNode(id_='55586e2c-bc51-49d0-81cd-02819654d441', embedding=None, metadata={}, excluded_embed_metadata_keys=[], excluded_llm_metadata_keys=[], relationships={<NodeRelationship.SOURCE: '1'>: RelatedNodeInfo(node_id='9b102904-81f4-4e04-84fb-f8c35b6f25ef', node_type=None, metadata={}, hash='d8d44861f6a96aaeb9d09f5984d6798dc411a9ee570b25dbeb47b7effb855a00'), <NodeRelationship.PREVIOUS: '2'>: RelatedNodeInfo(node_id='f923cef7-2d07-4706-94e3-42a2612cce15', node_type=None, metadata={}, hash='b022121cad2beeefc9e0b32a1e7ce1c53930f6fa5906d015f0d58da8276868d0'), <NodeRelationship.NEXT: '3'>: RelatedNodeInfo(node_id='ede25cc6-aab7-4c54-a462-998dd502e469', node_type=None, metadata={}, hash='1114bf9e1e74e7618cd011eb2a626a3f88072c96721345483bf102ce30bd0f36')}, hash='b04427a184639d0a04da7067252e5251c9dea7f4a28972852f331f06e4c212af', text=\"=== Nightlife and festivals ===\\nBerlin's nightlife has been celebrated as one of the most diverse and vibrant of its kind. In the 1970s and 80s, the SO36 in Kreuzberg was a center for punk music and culture. The SOUND and the Dschungel gained notoriety. Throughout the 1990s, people in their 20s from all over the world, particularly those in Western and Central Europe, made Berlin's club scene a premier nightlife venue. After the fall of the Berlin Wall in 1989, many historic buildings in Mitte, the former city center of East Berlin, were illegally occupied and re-built by young squatters and became a fertile ground for underground and counterculture gatherings. The central boroughs are home to many nightclubs, including the Watergate, Tresor and Berghain. The KitKatClub and several other locations are known for their sexually uninhibited parties.\\nClubs are not required to close at a fixed time during the weekends, and many parties last well into the morning or even all weekend. The Weekend Club near Alexanderplatz features a roof terrace that allows partying at night. Several venues have become a popular stage for the Neo-Burlesque scene.\\n\\nBerlin has a long history of gay culture, and is an important birthplace of the LGBT rights movement. Same-sex bars and dance halls operated freely as early as the 1880s, and the first gay magazine, Der Eigene, started in 1896. By the 1920s, gays and lesbians had an unprecedented visibility. Today, in addition to a positive atmosphere in the wider club scene, the city again has a huge number of queer clubs and festivals. The most famous and largest are Berlin Pride, the Christopher Street Day, the Lesbian and Gay City Festival in Berlin-Schöneberg, the Kreuzberg Pride and Hustlaball.\\nThe annual Berlin International Film Festival (Berlinale) with around 500,000 admissions is considered to be the largest publicly attended film festival in the world. The Karneval der Kulturen (Carnival of Cultures), a multi-ethnic street parade, is celebrated every Pentecost weekend. Berlin is also well known for the cultural festival Berliner Festspiele, which includes the jazz festival JazzFest Berlin, and Young Euro Classic, the largest international festival of youth orchestras in the world. Several technology and media art festivals and conferences are held in the city, including Transmediale and Chaos Communication Congress. The annual Berlin Festival focuses on indie rock, electronic music and synthpop and is part of the International Berlin Music Week. Every year Berlin hosts one of the largest New Year's Eve celebrations in the world, attended by well over a million people. The focal point is the Brandenburg Gate, where midnight fireworks are centered, but various private fireworks displays take place throughout the entire city. Partygoers in Germany often toast the New Year with a glass of sparkling wine.\", start_char_idx=None, end_char_idx=None, text_template='{metadata_str}\\n\\n{content}', metadata_template='{key}: {value}', metadata_seperator='\\n'), score=0.875997715989522), NodeWithScore(node=TextNode(id_='ede25cc6-aab7-4c54-a462-998dd502e469', embedding=None, metadata={}, excluded_embed_metadata_keys=[], excluded_llm_metadata_keys=[], relationships={<NodeRelationship.SOURCE: '1'>: RelatedNodeInfo(node_id='9b102904-81f4-4e04-84fb-f8c35b6f25ef', node_type=None, metadata={}, hash='d8d44861f6a96aaeb9d09f5984d6798dc411a9ee570b25dbeb47b7effb855a00'), <NodeRelationship.PREVIOUS: '2'>: RelatedNodeInfo(node_id='55586e2c-bc51-49d0-81cd-02819654d441', node_type=None, metadata={}, hash='b04427a184639d0a04da7067252e5251c9dea7f4a28972852f331f06e4c212af'), <NodeRelationship.NEXT: '3'>: RelatedNodeInfo(node_id='d553cff8-855c-4eec-b24a-192703456dd9', node_type=None, metadata={}, hash='0ab283b16e56484d9d0dcdb8f54389d452e9146b946138858b23571a3d4733d1')}, hash='1114bf9e1e74e7618cd011eb2a626a3f88072c96721345483bf102ce30bd0f36', text='=== Performing arts ===\\n\\nBerlin is home to 44 theaters and stages. The Deutsches Theater in Mitte was built in 1849–50 and has operated almost continuously since then. The Volksbühne at Rosa-Luxemburg-Platz was built in 1913–14, though the company had been founded in 1890. The Berliner Ensemble, famous for performing the works of Bertolt Brecht, was established in 1949. The Schaubühne was founded in 1962 and moved to the building of the former Universum Cinema on Kurfürstendamm in 1981. With a seating capacity of 1,895 and a stage floor of 2,854 square meters (30,720 sq ft), the Friedrichstadt-Palast in Berlin Mitte is the largest show palace in Europe. For Berlin\\'s independent dance and theatre scene, venues such as the Sophiensäle in Mitte and the three houses of the Hebbel am Ufer (HAU) in Kreuzberg are important. Most productions there are also accessible to an English-speaking audience. Some of the dance and theatre groups that also work internationally (Gob Squad, Rimini Protokoll) are based there, as well as festivals such as the international festival Dance in August.\\nBerlin has three major opera houses: the Deutsche Oper, the Berlin State Opera, and the Komische Oper. The Berlin State Opera on Unter den Linden opened in 1742 and is the oldest of the three. Its musical director is Daniel Barenboim. The Komische Oper has traditionally specialized in operettas and is also at Unter den Linden. The Deutsche Oper opened in 1912 in Charlottenburg.\\nThe city\\'s main venue for musical theater performances are the Theater am Potsdamer Platz and Theater des Westens (built in 1895). Contemporary dance can be seen at the Radialsystem V. The Tempodrom is host to concerts and circus-inspired entertainment. It also houses a multi-sensory spa experience. The Admiralspalast in Mitte has a vibrant program of variety and music events.\\nThere are seven symphony orchestras in Berlin. The Berlin Philharmonic Orchestra is one of the preeminent orchestras in the world; it is housed in the Berliner Philharmonie near Potsdamer Platz on a street named for the orchestra\\'s longest-serving conductor, Herbert von Karajan. Simon Rattle was its principal conductor from 1999 to 2018, a position now held by Kirill Petrenko. The Konzerthausorchester Berlin was founded in 1952 as the orchestra for East Berlin. Christoph Eschenbach is its principal conductor. The Haus der Kulturen der Welt presents exhibitions dealing with intercultural issues and stages world music and conferences. The Kookaburra and the Quatsch Comedy Club are known for satire and comedy shows. In 2018, the New York Times described Berlin as \"arguably the world capital of underground electronic music\".\\n\\n\\n=== Cuisine ===\\n\\nThe cuisine and culinary offerings of Berlin vary greatly. 23 restaurants in Berlin have been awarded one or more Michelin stars in the Michelin Guide of 2021, which ranks the city at the top for the number of restaurants having this distinction in Germany. Berlin is well known for its offerings of vegetarian and vegan cuisine and is home to an innovative entrepreneurial food scene promoting cosmopolitan flavors, local and sustainable ingredients, pop-up street food markets, supper clubs, as well as food festivals, such as Berlin Food Week.Many local foods originated from north German culinary traditions and include rustic and hearty dishes with pork, goose, fish, peas, beans, cucumbers, or potatoes. Typical Berliner fare include popular street food like the Currywurst (which gained popularity with postwar construction workers rebuilding the city), Buletten and the Berliner donut, known in Berlin as Pfannkuchen. German bakeries offering a variety of breads and pastries are widespread. One of Europe\\'s largest delicatessen markets is found at the KaDeWe, and among the world\\'s largest chocolate stores is Rausch.Berlin is also home to a diverse gastronomy scene reflecting the immigrant history of the city. Turkish and Arab immigrants brought their culinary traditions to the city, such as the lahmajoun and falafel, which have become common fast food staples. The modern fast-food version of the doner kebab sandwich which evolved in Berlin in the 1970s, has since become a favorite dish in Germany and elsewhere in the world. Asian cuisine like Chinese, Vietnamese, Thai, Indian, Korean, and Japanese restaurants, as well as Spanish tapas bars, Italian, and Greek cuisine, can be found in many parts of the city.', start_char_idx=None, end_char_idx=None, text_template='{metadata_str}\\n\\n{content}', metadata_template='{key}: {value}', metadata_seperator='\\n'), score=0.8698771951913058)], metadata={'55586e2c-bc51-49d0-81cd-02819654d441': {}, 'ede25cc6-aab7-4c54-a462-998dd502e469': {}}))"
      ]
     },
     "execution_count": 6,
     "metadata": {},
     "output_type": "execute_result"
    }
   ],
   "source": [
    "reader = WikipediaReader()\n",
    "\n",
    "tool = OnDemandLoaderTool.from_defaults(\n",
    "    reader,\n",
    "    name=\"Wikipedia Tool\",\n",
    "    description=\"A tool for loading and querying articles from Wikipedia\",\n",
    ")\n",
    "\n",
    "# run only the llama_Index Tool by itself\n",
    "tool([\"Berlin\"], query_str=\"What's the arts and culture scene in Berlin?\")\n",
    "\n",
    "# run tool from LangChaleo1uf2lyx3c3w65lxdqv9we22qtkc6jwywcsgsvenphtl9exa3hpuqsx8eusfain Agent\n",
    "lc_tool = tool.to_langchain_structured_tool(verbose=True)\n",
    "lc_tool.run(tool_input={\"pages\": [\"Berlin\"], \"query_str\": \"What's the arts and culture scene in Berlin?\"})"
   ]
  }
 ],
 "metadata": {
  "kernelspec": {
   "display_name": "vision-cap",
   "language": "python",
   "name": "python3"
  },
  "language_info": {
   "codemirror_mode": {
    "name": "ipython",
    "version": 3
   },
   "file_extension": ".py",
   "mimetype": "text/x-python",
   "name": "python",
   "nbconvert_exporter": "python",
   "pygments_lexer": "ipython3",
   "version": "3.10.12"
  },
  "orig_nbformat": 4
 },
 "nbformat": 4,
 "nbformat_minor": 2
}
